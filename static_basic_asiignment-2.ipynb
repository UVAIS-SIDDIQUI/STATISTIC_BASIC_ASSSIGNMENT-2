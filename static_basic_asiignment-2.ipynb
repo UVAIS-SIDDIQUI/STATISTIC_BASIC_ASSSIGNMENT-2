{
 "cells": [
  {
   "cell_type": "code",
   "execution_count": 1,
   "id": "d3cd77fd-1b8b-4667-bdef-3262e4f16fd4",
   "metadata": {},
   "outputs": [],
   "source": [
    "#Q1. What are the three measures of central tendency?"
   ]
  },
  {
   "cell_type": "markdown",
   "id": "37a06cd7-e7d7-43aa-a997-b5012eebb506",
   "metadata": {},
   "source": [
    "ANS = The three measures of central tendency are:\n",
    "\n",
    "Mean:\n",
    "\n",
    "The arithmetic average of a set of values, calculated by summing all the values and then dividing by the total number of values.\n",
    "\n",
    "Median: \n",
    "\n",
    "The middle value in a sorted list of numbers. If there is an even number of values, the median is the average of the two middle numbers.\n",
    "\n",
    "Mode:\n",
    "\n",
    "The value that appears most frequently in a set of data. A set of data may have one mode, more than one mode (multimodal), or no mode at all if no value appears more than once."
   ]
  },
  {
   "cell_type": "code",
   "execution_count": 2,
   "id": "4c2cbf25-d85e-43ef-b2c7-12b276604065",
   "metadata": {},
   "outputs": [],
   "source": [
    "#Q2. What is the difference between the mean, median, and mode? How are they used to measure the \n",
    "#central tendency of a dataset?"
   ]
  },
  {
   "cell_type": "markdown",
   "id": "f414e8de-e1ab-4553-8c9c-8fc3a0c97e17",
   "metadata": {},
   "source": [
    "ANS = The mean, median, and mode are all measures of central tendency, but they each capture different aspects of the dataset:\n",
    "\n",
    "Mean:\n",
    "\n",
    "The mean is the average value of a dataset. It is calculated by summing all the values in the dataset and dividing by the total number of values. The mean is sensitive to outliers, as extreme values can disproportionately influence its value.\n",
    "\n",
    "Median:\n",
    "\n",
    "The median is the middle value in a dataset when the values are arranged in ascending or descending order. If there is an even number of values, the median is the average of the two middle values. The median is less affected by outliers compared to the mean, making it a more robust measure of central tendency in skewed datasets.\n",
    "\n",
    "Mode:\n",
    "\n",
    "The mode is the value that appears most frequently in a dataset. Unlike the mean and median, the mode can be applied to both numerical and categorical data. A dataset can have one mode (unimodal), multiple modes (multimodal), or no mode at all if all values occur with equal frequency."
   ]
  },
  {
   "cell_type": "code",
   "execution_count": 4,
   "id": "7147c575-bcff-4a7f-bb31-166bfa6f1775",
   "metadata": {},
   "outputs": [],
   "source": [
    "#Q3.Measure the three measures of central tendency for the given height data:\n",
    "\n",
    "#[178,177,176,177,178.2,178,175,179,180,175,178.9,176.2,177,172.5,178,176.5]"
   ]
  },
  {
   "cell_type": "markdown",
   "id": "afac4229-b82f-465b-b7b5-e45c75e99e4d",
   "metadata": {},
   "source": [
    "ANS = Mean:\n",
    "   Mean=\n",
    "   (178+177+176+177+178.2+178+175+179+180+175+178.9+176.2+177+172.5+178+176.5)/15\n",
    "   \n",
    "   \n",
    "Mean= \n",
    "2681.3/15\n",
    "\n",
    "Mean=178.7533\n",
    "\n",
    "Median:\n",
    "First, let's sort the data:\n",
    "\n",
    "172.5,175,175,176,176,176.2,177,177,177,178,178,178,178,178.2,178.9,179,180\n",
    " \n",
    " Since there are 17 values, the median will be the value at position \n",
    "(17+1)/2=9(17+1)/2=9, which is the 9th value.\n",
    "Median=177\n",
    "\n",
    "Mode:\n",
    "\n",
    "The mode is the most frequent value(s) in the dataset.\n",
    "In this dataset, the mode is 178, as it appears four times.\n",
    "\n",
    "\n",
    "So, the three measures of central tendency for the given height data are:\n",
    "\n",
    "Mean: \n",
    "178.7533\n",
    "Median: \n",
    "177\n",
    "Mode: \n",
    "178"
   ]
  },
  {
   "cell_type": "code",
   "execution_count": 6,
   "id": "f50bf1c7-ec56-4712-8674-fb209f74fb8e",
   "metadata": {},
   "outputs": [],
   "source": [
    "#Q4. Find the standard deviation for the given data:\n",
    "\n",
    "#[178,177,176,177,178.2,178,175,179,180,175,178.9,176.2,177,172.5,178,176.5]"
   ]
  },
  {
   "cell_type": "markdown",
   "id": "9016f971-4a24-47d6-8851-48c32e0a27e4",
   "metadata": {},
   "source": [
    "ANS = To find the standard deviation for the given data, we'll follow these steps:\n",
    "\n",
    "1.Calculate the mean of the data.\n",
    "2.Find the squared difference between each data point and the mean.\n",
    "3.Calculate the mean of the squared differences.\n",
    "4.Take the square root of the result from step 3 to find the standard deviation.\n",
    "\n",
    "Given data:\n",
    "    [178,177,176,177,178.2,178,175,179,180,175,178.9,176.2,177,172.5,178,176.5]\n",
    "    \n",
    "    \n",
    "Step 1: Calculate the mean.\n",
    "  \n",
    "    Mean= \n",
    "    178+177+176+177+178.2+178+175+179+180+175+178.9+176.2+177+172.5+178+176.5/16\n",
    "    \n",
    "    \n",
    "Mean=  2845.3/16\n",
    "    \n",
    "    Mean=177.83125\n",
    "\n",
    "Step 2: Find the squared difference between each data point and the mean:\n",
    "Squared Differences:\n",
    "\n",
    "    (178−177.83125)^2=0.02811\n",
    "    (177−177.83125)^2=0.69242\n",
    "    (176−177.83125)^2=3.3722\n",
    "    .\n",
    "    .\n",
    "Step 3: Calculate the mean of the squared differences\n",
    "\n",
    "Mean of Squared Differences= 0.02811+0.69242+3.3722+…/16\n",
    "\n",
    "Mean of Squared Differences= 36.889194/16\n",
    "\n",
    "Mean of Squared Differences=2.305574625\n",
    "\n",
    "Step 4: Take the square root of the mean of squared differences to find the standard deviation\n",
    "\n",
    "Standard Deviation= √2.305574625\n",
    "\n",
    "Standard Deviation≈1.51874\n",
    "So, the standard deviation for the given data is approximately 1.51874"
   ]
  },
  {
   "cell_type": "code",
   "execution_count": 2,
   "id": "b65e49b2-c155-4aad-be84-8646ff953ec3",
   "metadata": {},
   "outputs": [],
   "source": [
    "#Q5. How are measures of dispersion such as range, variance, and standard deviation used to describe \n",
    "#the spread of a dataset? Provide an example."
   ]
  },
  {
   "cell_type": "markdown",
   "id": "2c1ed9e6-f2f6-431d-a5c7-168d08751130",
   "metadata": {},
   "source": [
    "ANS = Measures of dispersion, such as range, variance, and standard deviation, are used to quantify the extent of variability or spread within a dataset. They provide valuable insights into how the individual data points are distributed around the central tendency measures (mean, median, mode). Here's how each measure is used:\n",
    "\n",
    "Range:\n",
    "\n",
    "The range is the simplest measure of dispersion and represents the difference between the largest and smallest values in the dataset. It gives a basic understanding of how widely spread the data points are. However, it doesn't consider the distribution of values in between the maximum and minimum.\n",
    "\n",
    "Variance:\n",
    "\n",
    "The variance calculates the average of the squared differences between each data point and the mean of the dataset. It provides a measure of how much the data points deviate from the mean. However, because the variance is in squared units, it might not be as intuitive to interpret.\n",
    "\n",
    "Standard Deviation:\n",
    "\n",
    "The standard deviation is the square root of the variance. It measures the average deviation of data points from the mean. Unlike the variance, the standard deviation is in the same units as the original data, making it more interpretable and widely used.\n",
    "\n",
    "\n",
    "\n",
    "Example:\n",
    "Let's consider the following dataset representing the daily temperatures (in Celsius) in a city over a week:\n",
    "{20,22,23,24,21,19,25}\n",
    "\n",
    "Range: \n",
    "      25−19=6 degrees Celsius.\n",
    "      \n",
    "      \n",
    "Variance: First, calculate the mean:\n",
    "\n",
    "Mean= 20+22+23+24+21+19+25/7= 154/7≈22\n",
    "\n",
    "Next, calculate the squared differences:\n",
    "\n",
    "(20−22)^2,(22−22)^2,…\n",
    "\n",
    "Average the squared differences to find the variance:\n",
    "\n",
    "Standard Deviation: Take the square root of the variance to find the standard deviation.\n"
   ]
  },
  {
   "cell_type": "code",
   "execution_count": 3,
   "id": "16d87ae4-f5aa-46de-816a-0bba37395458",
   "metadata": {},
   "outputs": [],
   "source": [
    "#Q6. What is a Venn diagram?"
   ]
  },
  {
   "cell_type": "markdown",
   "id": "ea559462-bd9d-4408-a5d0-5e0200c550d7",
   "metadata": {},
   "source": [
    "ANS = A Venn diagram is a graphical representation used to illustrate the relationships and similarities between different sets of items or groups. It consists of overlapping circles or other shapes, each representing a set, with the overlapping areas representing intersections or commonalities between the sets.\n",
    "\n",
    "Key features of a Venn diagram:\n",
    "\n",
    "Circles (or shapes) representing sets: Each circle typically represents a set of items or elements. The items within each set share common characteristics or properties.\n",
    "\n",
    "Overlap between circles:\n",
    "\n",
    "The overlapping regions represent the intersection of two or more sets. It shows the elements that belong to multiple sets or have common characteristics shared by the sets.\n",
    "\n",
    "Non-overlapping areas:\n",
    "\n",
    "The non-overlapping regions within each circle represent elements that belong exclusively to that particular set and do not intersect with other sets.\n",
    "\n",
    "\n",
    "Venn diagrams are commonly used in various fields such as mathematics, logic, statistics, and computer science to visually organize information, compare different categories or groups, and analyze relationships between them. "
   ]
  },
  {
   "cell_type": "code",
   "execution_count": 4,
   "id": "c9af63bd-2cdf-4b31-8576-0ff70c41c46c",
   "metadata": {},
   "outputs": [],
   "source": [
    "#Q7. For the two given sets A = (2,3,4,5,6,7) & B = (0,2,6,8,10). Find:\n",
    "\n",
    "#(i) A(interception)B\n",
    "#(ii)A ⋃ B"
   ]
  },
  {
   "cell_type": "markdown",
   "id": "03c42ffd-1089-4ab5-912b-2f33f4ad558e",
   "metadata": {},
   "source": [
    "ANS =\n",
    "(i) A∩B={2,6}\n",
    "\n",
    "(ii) A∪B={0,2,3,4,5,6,7,8,10}"
   ]
  },
  {
   "cell_type": "code",
   "execution_count": 5,
   "id": "dc45036c-506d-4ac0-a46b-a71d1a0ae29b",
   "metadata": {},
   "outputs": [],
   "source": [
    "#Q8. What do you understand about skewness in data?"
   ]
  },
  {
   "cell_type": "markdown",
   "id": "20f44593-f2c9-4963-b377-1e15faecd874",
   "metadata": {},
   "source": [
    "ANS = Skewness in data refers to the lack of symmetry in the distribution of values. It indicates the extent to which the data deviates from a normal distribution in terms of its shape.\n",
    "\n",
    "In a perfectly symmetrical distribution, the data is evenly distributed around the mean, with the left and right tails being mirror images of each other. However, in skewed distributions, one tail of the distribution may be longer or stretched out compared to the other.\n",
    "\n",
    "There are two primary types of skewness:\n",
    "\n",
    "Positive Skewness (Right Skewness):\n",
    "\n",
    "In a positively skewed distribution, the tail on the right-hand side of the distribution is longer or fatter than the left-hand side. This implies that there are more extreme values (higher values) in the dataset, and the mean is typically greater than the median.\n",
    "\n",
    "Negative Skewness (Left Skewness):\n",
    "\n",
    "In a negatively skewed distribution, the tail on the left-hand side of the distribution is longer or fatter than the right-hand side. This suggests that there are more extreme values (lower values) in the dataset, and the mean is usually less than the median."
   ]
  },
  {
   "cell_type": "code",
   "execution_count": 6,
   "id": "756af39f-a653-4359-bd4a-1dd1e9f9eddb",
   "metadata": {},
   "outputs": [],
   "source": [
    "#Q9. If a data is right skewed then what will be the position of median with respect to mean?"
   ]
  },
  {
   "cell_type": "markdown",
   "id": "c9f8d8ea-4d68-4c02-b0f3-3c6419a3a61b",
   "metadata": {},
   "source": [
    "ANS = In a right-skewed distribution, also known as positively skewed distribution, the tail on the right-hand side of the distribution is longer or fatter than the left-hand side. This implies that there are more extreme values (higher values) in the dataset.\n",
    "\n",
    "In a right-skewed distribution:\n",
    "\n",
    "The mean is typically greater than the median.\n",
    "The median is usually closer to the left-hand side of the distribution, where the bulk of the data is concentrated, while the mean is influenced by the higher values in the right tail.\n",
    "\n",
    "So, with respect to the mean:\n",
    "\n",
    "The median is usually lower than the mean in a right-skewed distribution.\n",
    "The mean tends to be pulled towards the right tail by the presence of the extreme values, causing it to be greater than the median."
   ]
  },
  {
   "cell_type": "code",
   "execution_count": 7,
   "id": "8229428f-10cb-4c86-9648-2e5875531ebc",
   "metadata": {},
   "outputs": [],
   "source": [
    "# Q10. Explain the difference between covariance and correlation. How are these measures used in \n",
    "#statistical analysis?"
   ]
  },
  {
   "cell_type": "markdown",
   "id": "dd7ccac1-56d9-4927-bc64-d5e232c3c987",
   "metadata": {},
   "source": [
    "ANS = Covariance and correlation are both measures used to assess the relationship between two variables in statistics, but they serve slightly different purposes and have different interpretations:\n",
    "\n",
    "Covariance:\n",
    "\n",
    "Covariance measures the degree to which two variables change together. It indicates the direction of the linear relationship between two variables (whether they move in the same direction or opposite directions) and the strength of that relationship.\n",
    " \n",
    "\n",
    "\n",
    "The formula for covariance between two variables X and Y in a dataset is:\n",
    "\n",
    "cov(X,Y)=\n",
    "\n",
    "\n",
    "n  \n",
    "       _     _\n",
    "∑  (Xi-X)(Yi-Y)/n\n",
    "\n",
    "i\n",
    "\n",
    "\n",
    "Covariance can take on any value, positive, negative, or zero. However, its magnitude is not standardized, making it difficult to interpret the strength of the relationship between variables.\n",
    "\n",
    "Correlation:\n",
    "\n",
    "Correlation is a standardized measure of the linear relationship between two variables. It indicates both the strength and direction of the relationship between variables.\n",
    "\n",
    "The correlation coefficient, denoted by \n",
    "r, is a standardized covariance and ranges between -1 and 1.\n",
    "\n",
    "\n",
    "The formula for correlation coefficient \n",
    "r between variables X and Y is:\n",
    "      \n",
    "      \n",
    "      \n",
    "      r=COV(X,Y)/ σ X σ Y  \n",
    "      \n",
    "\n",
    "where σ X and σ Y  are the standard deviations of X and Y, respectively.\n",
    "\n",
    "\n",
    " \n",
    "A correlation coefficient of \n",
    "1 indicates a perfect positive linear relationship, 0\n",
    "0 indicates no linear relationship, and −1 indicates a perfect negative linear relationship.\n",
    "\n",
    "\n",
    "\n",
    "In statistical analysis:\n",
    "\n",
    "Covariance is useful for understanding the direction of the relationship between two variables, but it doesn't provide a standardized measure of the strength of the relationship.\n",
    "Correlation, on the other hand, standardizes the measure of the relationship, making it easier to interpret and compare across different datasets.\n",
    "\n",
    "Correlation is widely used in various fields such as finance, economics, social sciences, and more, to analyze relationships between variables, identify patterns, and make predictions. It is particularly valuable when comparing relationships between variables measured in different units or with different scales"
   ]
  },
  {
   "cell_type": "code",
   "execution_count": 8,
   "id": "0d444561-7b20-43a8-9f2c-72279126974c",
   "metadata": {},
   "outputs": [],
   "source": [
    "# Q11. What is the formula for calculating the sample mean? Provide an example calculation for a \n",
    "#dataset."
   ]
  },
  {
   "cell_type": "markdown",
   "id": "ab4203fd-c3d4-4e68-9244-26b278e1661e",
   "metadata": {},
   "source": [
    "ANS =  the formula for calculating the sample mean is \n",
    "     _\n",
    "    (X)=∑ Xi/n   (i= 1 - >n)\n",
    "    \n",
    "    \n",
    "    \n",
    "    Here's an example calculation for a dataset:\n",
    "\n",
    "Let's consider a dataset representing the scores of 5 students in a test:\n",
    "\n",
    "{85,90,92,88,95}\n",
    "\n",
    "To calculate the sample mean:\n",
    "    \n",
    "    Add up all the values in the dataset: 85+90+92+88+95=450.\n",
    "    \n",
    "    \n",
    "    Divide the sum by the total number of observations, which is 5: 450/5=90.\n",
    "    \n",
    "    \n",
    "    So, the sample mean for the dataset is 90 This means that, on average, the students score 90"
   ]
  },
  {
   "cell_type": "code",
   "execution_count": 9,
   "id": "108b1b14-972b-491f-baf6-a88e520a81b0",
   "metadata": {},
   "outputs": [],
   "source": [
    "# Q12. For a normal distribution data what is the relationship between its measure of central tendency?"
   ]
  },
  {
   "cell_type": "markdown",
   "id": "94db25b7-e9cd-4ea7-858a-c72ac17fb4c0",
   "metadata": {},
   "source": [
    "ANS = \n",
    "  \n",
    "    For a normal distribution, which is also known as a Gaussian distribution, there is a specific relationship between its measures of central tendency, namely the mean, median, and mode.\n",
    "\n",
    "In a normal distribution:\n",
    "\n",
    "Mean:\n",
    "\n",
    "The mean, denoted by μ, is located at the center of the distribution. It is also the balancing point of the distribution, meaning that the sum of deviations from the mean above the mean is equal to the sum of deviations below the mean.\n",
    "\n",
    "\n",
    "Median: \n",
    "\n",
    "The median is also located at the center of the distribution in a normal distribution. Since the normal distribution is symmetric, the median is equal to the mean (μ).\n",
    "\n",
    "\n",
    "Mode:\n",
    "In a normal distribution, the mode is also equal to the mean (μ). This is because the normal distribution is symmetric and unimodal, with the highest point of the distribution coinciding with the mean.\n",
    "\n",
    "\n",
    "for a normal distribution:\n",
    "\n",
    "Mean=Median=Mode=μ\n",
    "\n",
    "This relationship holds true for all normal distributions, regardless of their means and standard deviations. It's a fundamental property of the normal distribution's symmetry and bell-shaped curve."
   ]
  },
  {
   "cell_type": "code",
   "execution_count": 10,
   "id": "ddb56d34-58a3-4469-acb8-694adb4d2031",
   "metadata": {},
   "outputs": [],
   "source": [
    "# Q13. How is covariance different from correlation?"
   ]
  },
  {
   "cell_type": "markdown",
   "id": "34ae0381-3e70-48c7-a0e3-2959b9407dd4",
   "metadata": {},
   "source": [
    "ANS = \n",
    "Covariance and correlation are both measures used to assess the relationship between two variables, but they have some key differences:\n",
    "\n",
    "Definition:\n",
    "\n",
    "Covariance measures the degree to which two variables change together. It indicates the direction of the linear relationship between two variables (whether they move in the same direction or opposite directions) and the strength of that relationship.\n",
    "Correlation is a standardized measure of the linear relationship between two variables. It indicates both the strength and direction of the relationship between variables.\n",
    "\n",
    "Scale:\n",
    "\n",
    "Covariance can take on any value, positive, negative, or zero. However, its magnitude is not standardized, making it difficult to interpret the strength of the relationship between variables.\n",
    "Correlation, on the other hand, is a standardized measure and ranges between -1 and 1. A correlation coefficient of 1 indicates a perfect positive linear relationship, 0 indicates no linear relationship, and -1 indicates a perfect negative linear relationship.\n",
    "\n",
    "Units:\n",
    "\n",
    "Covariance is expressed in the units of the variables being measured.\n",
    "Correlation is unitless, as it is a standardized measure. It does not depend on the units of measurement of the variables.\n",
    "\n",
    "Interpretation:\n",
    "\n",
    "Covariance only indicates the direction of the relationship between variables (positive or negative) and the extent to which they change together, but it doesn't provide a standardized measure of the strength of the relationship.\n",
    "Correlation provides a standardized measure of the strength and direction of the linear relationship between variables. It is more interpretable and widely used compared to covariance."
   ]
  },
  {
   "cell_type": "code",
   "execution_count": 11,
   "id": "960f58c1-d448-453e-b2f0-37db8d4301d7",
   "metadata": {},
   "outputs": [],
   "source": [
    "# Q14. How do outliers affect measures of central tendency and dispersion? Provide an example."
   ]
  },
  {
   "cell_type": "markdown",
   "id": "ddccc848-8f2d-4626-bb67-d4e0215a39dd",
   "metadata": {},
   "source": [
    "ANS = Outliers can significantly impact measures of central tendency and dispersion in a dataset by skewing the results and distorting the overall picture of the data. Here's how outliers affect these measures:\n",
    "\n",
    "Measures of Central Tendency:\n",
    "\n",
    "Outliers can pull the mean in their direction, especially in large datasets, as the mean is sensitive to extreme values. This can result in an inaccurate representation of the typical value of the dataset.\n",
    "The median is less affected by outliers because it is not influenced by extreme values. However, if the dataset has a substantial number of outliers, the median might still be shifted slightly.\n",
    "\n",
    "Measures of Dispersion:\n",
    "\n",
    "Outliers can inflate the measures of dispersion, such as the range, variance, and standard deviation, making them larger than they would be without the outliers.\n",
    "The range, for example, will increase if there are outliers that are much larger or smaller than the rest of the data.\n",
    "Variance and standard deviation, being based on the squared differences from the mean, will be significantly affected by outliers. Outliers with large deviations from the mean will increase the spread of the data and inflate these measures.\n",
    "Here's an example to illustrate how outliers affect measures of central tendency and dispersion:\n",
    "\n",
    "Consider a dataset representing the salaries of employees in a company:\n",
    "\n",
    "\n",
    "{30000,32000,33000,35000,36000,37000,40000,45000,50000,200000}\n",
    "\n",
    "In this dataset, the majority of salaries fall within the range of $30,000 to $50,000, but there is one extreme outlier at $200,000.\n",
    "\n",
    "\n",
    "\n",
    "Measures of Central Tendency:\n",
    "\n",
    "Mean:\n",
    "\n",
    "If we calculate the mean salary, the outlier at $200,000 will significantly inflate the mean, resulting in a misleading representation of the typical salary.\n",
    "\n",
    "Median:\n",
    "\n",
    "The median, however, will be less affected by the outlier since it represents the middle value of the dataset. In this case, it would be closer to the typical salary range.\n",
    "\n",
    "Measures of Dispersion:\n",
    "\n",
    "Range: \n",
    "\n",
    "The presence of the outlier will increase the range of salaries from $20,000 to $180,000, even though most salaries are concentrated in a much narrower range.\n",
    "\n",
    "\n",
    "Variance and Standard Deviation: \n",
    "\n",
    "The outlier will cause a large deviation from the mean, resulting in higher variance and standard deviation, indicating a greater spread of salaries than is actually typical for the majority of employees."
   ]
  },
  {
   "cell_type": "code",
   "execution_count": null,
   "id": "93997db7-5a26-4e4f-b03e-9bf79f55b2d4",
   "metadata": {},
   "outputs": [],
   "source": []
  }
 ],
 "metadata": {
  "kernelspec": {
   "display_name": "Python 3 (ipykernel)",
   "language": "python",
   "name": "python3"
  },
  "language_info": {
   "codemirror_mode": {
    "name": "ipython",
    "version": 3
   },
   "file_extension": ".py",
   "mimetype": "text/x-python",
   "name": "python",
   "nbconvert_exporter": "python",
   "pygments_lexer": "ipython3",
   "version": "3.10.8"
  }
 },
 "nbformat": 4,
 "nbformat_minor": 5
}
